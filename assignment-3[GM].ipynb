{
  "nbformat": 4,
  "nbformat_minor": 0,
  "metadata": {
    "colab": {
      "provenance": [],
      "collapsed_sections": [
        "hcmnUT7mtA52",
        "km3RA1-52tjV",
        "zTB4ZJdKte5U"
      ]
    },
    "kernelspec": {
      "name": "python3",
      "display_name": "Python 3"
    },
    "language_info": {
      "name": "python"
    }
  },
  "cells": [
    {
      "cell_type": "markdown",
      "source": [
        "**ASSIGNMENT-3**"
      ],
      "metadata": {
        "id": "ekIqDieKucmX"
      }
    },
    {
      "cell_type": "code",
      "source": [
        "#!pip install keras"
      ],
      "metadata": {
        "id": "rYIy9QIdukmB"
      },
      "execution_count": null,
      "outputs": []
    },
    {
      "cell_type": "code",
      "source": [
        "from tensorflow.keras.preprocessing.image import ImageDataGenerator\n",
        "from tensorflow.keras.models import Sequential\n",
        "from tensorflow.keras.layers import Convolution2D,MaxPooling2D,Flatten,Dense\n",
        "import numpy as np\n",
        "from tensorflow.keras.models import load_model\n",
        "from tensorflow.keras.preprocessing import image"
      ],
      "metadata": {
        "id": "9zOCSXEVvDoi"
      },
      "execution_count": null,
      "outputs": []
    },
    {
      "cell_type": "markdown",
      "source": [
        "# **1.) Data Augmentation**\n"
      ],
      "metadata": {
        "id": "hcmnUT7mtA52"
      }
    },
    {
      "cell_type": "code",
      "source": [
        "from google.colab import drive\n",
        "drive.mount('/content/drive')"
      ],
      "metadata": {
        "colab": {
          "base_uri": "https://localhost:8080/"
        },
        "id": "7StFDS760Y1H",
        "outputId": "229bfa76-be86-470f-b56e-bc5b92ba8cf3"
      },
      "execution_count": null,
      "outputs": [
        {
          "output_type": "stream",
          "name": "stdout",
          "text": [
            "Drive already mounted at /content/drive; to attempt to forcibly remount, call drive.mount(\"/content/drive\", force_remount=True).\n"
          ]
        }
      ]
    },
    {
      "cell_type": "code",
      "source": [
        "train_datagen=ImageDataGenerator(rescale=1/255,zoom_range=0.2,horizontal_flip=True,vertical_flip=False)"
      ],
      "metadata": {
        "id": "m9Jb36p9tZW2"
      },
      "execution_count": null,
      "outputs": []
    },
    {
      "cell_type": "code",
      "source": [
        "test_datagen=ImageDataGenerator(rescale=1/255)"
      ],
      "metadata": {
        "id": "rR5WZ0jrvWpC"
      },
      "execution_count": null,
      "outputs": []
    },
    {
      "cell_type": "code",
      "source": [
        "x_train = train_datagen.flow_from_directory('/content/drive/MyDrive/animals',target_size=(64,64),class_mode='categorical',batch_size=100)"
      ],
      "metadata": {
        "colab": {
          "base_uri": "https://localhost:8080/"
        },
        "id": "Aa7BbMP8vb-I",
        "outputId": "2a01dcba-9d68-4aad-d5ca-0e03fa644042"
      },
      "execution_count": null,
      "outputs": [
        {
          "output_type": "stream",
          "name": "stdout",
          "text": [
            "Found 5437 images belonging to 91 classes.\n"
          ]
        }
      ]
    },
    {
      "cell_type": "code",
      "source": [
        "x_test =  test_datagen.flow_from_directory('/content/drive/MyDrive/animals',target_size=(64,64),class_mode='categorical',batch_size=100)"
      ],
      "metadata": {
        "colab": {
          "base_uri": "https://localhost:8080/"
        },
        "id": "7Yn1nOeBvvpx",
        "outputId": "303f6eaf-04b8-49a0-f5c2-53ebc3ecbfdf"
      },
      "execution_count": null,
      "outputs": [
        {
          "output_type": "stream",
          "name": "stdout",
          "text": [
            "Found 5437 images belonging to 91 classes.\n"
          ]
        }
      ]
    },
    {
      "cell_type": "code",
      "source": [
        "x_train.class_indices"
      ],
      "metadata": {
        "id": "CdVRfKY3wB9e"
      },
      "execution_count": null,
      "outputs": []
    },
    {
      "cell_type": "markdown",
      "source": [
        "# **2.) CNN-Convolutional Neural Network**"
      ],
      "metadata": {
        "id": "km3RA1-52tjV"
      }
    },
    {
      "cell_type": "markdown",
      "source": [
        "**A. Input layer**"
      ],
      "metadata": {
        "id": "buTpRvLruI_a"
      }
    },
    {
      "cell_type": "code",
      "source": [
        "model=Sequential()"
      ],
      "metadata": {
        "id": "mUDtpLvW24CZ"
      },
      "execution_count": null,
      "outputs": []
    },
    {
      "cell_type": "markdown",
      "source": [
        "**B. Minimum 1 Convolution & 1 Pooling layer**"
      ],
      "metadata": {
        "id": "V_zegB6yt-oC"
      }
    },
    {
      "cell_type": "code",
      "source": [
        "model.add(Convolution2D(32,(3,3),activation='relu',input_shape=(64,64,3)))"
      ],
      "metadata": {
        "id": "oVoBgtkDwm8G"
      },
      "execution_count": null,
      "outputs": []
    },
    {
      "cell_type": "code",
      "source": [
        "model.add(MaxPooling2D(pool_size=(2,2)))"
      ],
      "metadata": {
        "id": "mOS70NWnwqRc"
      },
      "execution_count": null,
      "outputs": []
    },
    {
      "cell_type": "markdown",
      "source": [
        "**C. 1 Flatten layer**"
      ],
      "metadata": {
        "id": "ffhdvt4It7bI"
      }
    },
    {
      "cell_type": "code",
      "source": [
        "model.add(Flatten())"
      ],
      "metadata": {
        "id": "A3AYFikNwtcl"
      },
      "execution_count": null,
      "outputs": []
    },
    {
      "cell_type": "markdown",
      "source": [
        "**D. Minimum of 2 Hidden layers**\n"
      ],
      "metadata": {
        "id": "THms_Bcct2W7"
      }
    },
    {
      "cell_type": "code",
      "source": [
        "#hidden layer-1\n",
        "model.add(Dense(300,activation='relu'))\n",
        "#hidden layer-2\n",
        "model.add(Dense(150,activation='relu'))"
      ],
      "metadata": {
        "id": "q8T1FSZ2w3hz"
      },
      "execution_count": null,
      "outputs": []
    },
    {
      "cell_type": "markdown",
      "source": [
        "**E. Output layer**"
      ],
      "metadata": {
        "id": "OVR1tkmutmfC"
      }
    },
    {
      "cell_type": "code",
      "source": [
        "model.add(Dense(91,activation='softmax'))"
      ],
      "metadata": {
        "id": "n461TxlbyRzz"
      },
      "execution_count": null,
      "outputs": []
    },
    {
      "cell_type": "code",
      "source": [
        "model.compile(loss='categorical_crossentropy',optimizer='adam',metrics=['accuracy'])"
      ],
      "metadata": {
        "id": "y7sPF0jutk_u"
      },
      "execution_count": null,
      "outputs": []
    },
    {
      "cell_type": "code",
      "source": [
        "model.fit(x_train,steps_per_epoch=len(x_train),epochs=2,validation_data=x_test,validation_steps=len(x_test))"
      ],
      "metadata": {
        "id": "SrUO_sTzydpS",
        "colab": {
          "base_uri": "https://localhost:8080/"
        },
        "outputId": "b3e88d09-92ad-46ca-e9fd-30af0581a544"
      },
      "execution_count": null,
      "outputs": [
        {
          "output_type": "stream",
          "name": "stdout",
          "text": [
            "Epoch 1/2\n",
            "55/55 [==============================] - 796s 14s/step - loss: 4.5206 - accuracy: 0.0090 - val_loss: 4.5181 - val_accuracy: 0.0110\n",
            "Epoch 2/2\n",
            "55/55 [==============================] - 282s 5s/step - loss: 4.5173 - accuracy: 0.0092 - val_loss: 4.5153 - val_accuracy: 0.0110\n"
          ]
        },
        {
          "output_type": "execute_result",
          "data": {
            "text/plain": [
              "<keras.callbacks.History at 0x7fef1356a2c0>"
            ]
          },
          "metadata": {},
          "execution_count": 45
        }
      ]
    },
    {
      "cell_type": "code",
      "source": [
        "model.save('animal.h5')"
      ],
      "metadata": {
        "id": "tue34HSv297r"
      },
      "execution_count": null,
      "outputs": []
    },
    {
      "cell_type": "markdown",
      "source": [
        "# **3.) Test the Model**"
      ],
      "metadata": {
        "id": "zTB4ZJdKte5U"
      }
    },
    {
      "cell_type": "code",
      "source": [
        "model=load_model('animal.h5')\n",
        "img=image.load_img(r'/content/drive/MyDrive/animals/antelope/02f4b3be2d.jpg',target_size=(64,64))\n",
        "img"
      ],
      "metadata": {
        "id": "WK56Kmmy4RQg",
        "colab": {
          "base_uri": "https://localhost:8080/",
          "height": 81
        },
        "outputId": "9ed2e5bf-af8e-429a-8855-b9a5d0837bee"
      },
      "execution_count": 50,
      "outputs": [
        {
          "output_type": "execute_result",
          "data": {
            "text/plain": [
              "<PIL.Image.Image image mode=RGB size=64x64 at 0x7FEF134C5750>"
            ],
            "image/png": "[encoded data removed]"
          },
          "metadata": {},
          "execution_count": 50
        }
      ]
    },
    {
      "cell_type": "code",
      "source": [
        "x=image.img_to_array(img)\n",
        "x"
      ],
      "metadata": {
        "id": "gXcOnLLP4c4g",
        "colab": {
          "base_uri": "https://localhost:8080/"
        },
        "outputId": "8350b78c-31a1-461b-fd35-ae8394f7983a"
      },
      "execution_count": 51,
      "outputs": [
        {
          "output_type": "execute_result",
          "data": {
            "text/plain": [
              "array([[[188., 180., 159.],\n",
              "        [200., 193., 174.],\n",
              "        [194., 189., 160.],\n",
              "        ...,\n",
              "        [206., 198., 177.],\n",
              "        [208., 199., 182.],\n",
              "        [200., 187., 168.]],\n",
              "\n",
              "       [[198., 192., 166.],\n",
              "        [199., 194., 174.],\n",
              "        [189., 185., 156.],\n",
              "        ...,\n",
              "        [216., 207., 192.],\n",
              "        [210., 201., 184.],\n",
              "        [210., 204., 190.]],\n",
              "\n",
              "       [[192., 192., 166.],\n",
              "        [199., 195., 170.],\n",
              "        [211., 195., 169.],\n",
              "        ...,\n",
              "        [214., 208., 192.],\n",
              "        [205., 200., 181.],\n",
              "        [212., 207., 188.]],\n",
              "\n",
              "       ...,\n",
              "\n",
              "       [[ 68.,  48.,  21.],\n",
              "        [168., 165., 130.],\n",
              "        [198., 185., 153.],\n",
              "        ...,\n",
              "        [171., 168., 117.],\n",
              "        [199., 192., 140.],\n",
              "        [171., 171., 121.]],\n",
              "\n",
              "       [[182., 166., 133.],\n",
              "        [144., 146., 109.],\n",
              "        [142., 141.,  87.],\n",
              "        ...,\n",
              "        [164., 165.,  95.],\n",
              "        [184., 176., 127.],\n",
              "        [190., 183., 131.]],\n",
              "\n",
              "       [[145., 130.,  89.],\n",
              "        [143., 159., 112.],\n",
              "        [162., 167., 103.],\n",
              "        ...,\n",
              "        [151., 124.,  79.],\n",
              "        [185., 181., 133.],\n",
              "        [170., 176., 132.]]], dtype=float32)"
            ]
          },
          "metadata": {},
          "execution_count": 51
        }
      ]
    },
    {
      "cell_type": "code",
      "source": [
        "x.ndim"
      ],
      "metadata": {
        "id": "PH49dKZ4487q",
        "colab": {
          "base_uri": "https://localhost:8080/"
        },
        "outputId": "eb72fee3-22dd-47de-c498-58f60a0b4b4a"
      },
      "execution_count": 52,
      "outputs": [
        {
          "output_type": "execute_result",
          "data": {
            "text/plain": [
              "3"
            ]
          },
          "metadata": {},
          "execution_count": 52
        }
      ]
    },
    {
      "cell_type": "code",
      "source": [
        "x=np.expand_dims(x,axis=0)\n",
        "x"
      ],
      "metadata": {
        "id": "zgwsNNit4g65",
        "colab": {
          "base_uri": "https://localhost:8080/"
        },
        "outputId": "edfd1395-a578-4c5b-8cce-49f941b14497"
      },
      "execution_count": 53,
      "outputs": [
        {
          "output_type": "execute_result",
          "data": {
            "text/plain": [
              "array([[[[188., 180., 159.],\n",
              "         [200., 193., 174.],\n",
              "         [194., 189., 160.],\n",
              "         ...,\n",
              "         [206., 198., 177.],\n",
              "         [208., 199., 182.],\n",
              "         [200., 187., 168.]],\n",
              "\n",
              "        [[198., 192., 166.],\n",
              "         [199., 194., 174.],\n",
              "         [189., 185., 156.],\n",
              "         ...,\n",
              "         [216., 207., 192.],\n",
              "         [210., 201., 184.],\n",
              "         [210., 204., 190.]],\n",
              "\n",
              "        [[192., 192., 166.],\n",
              "         [199., 195., 170.],\n",
              "         [211., 195., 169.],\n",
              "         ...,\n",
              "         [214., 208., 192.],\n",
              "         [205., 200., 181.],\n",
              "         [212., 207., 188.]],\n",
              "\n",
              "        ...,\n",
              "\n",
              "        [[ 68.,  48.,  21.],\n",
              "         [168., 165., 130.],\n",
              "         [198., 185., 153.],\n",
              "         ...,\n",
              "         [171., 168., 117.],\n",
              "         [199., 192., 140.],\n",
              "         [171., 171., 121.]],\n",
              "\n",
              "        [[182., 166., 133.],\n",
              "         [144., 146., 109.],\n",
              "         [142., 141.,  87.],\n",
              "         ...,\n",
              "         [164., 165.,  95.],\n",
              "         [184., 176., 127.],\n",
              "         [190., 183., 131.]],\n",
              "\n",
              "        [[145., 130.,  89.],\n",
              "         [143., 159., 112.],\n",
              "         [162., 167., 103.],\n",
              "         ...,\n",
              "         [151., 124.,  79.],\n",
              "         [185., 181., 133.],\n",
              "         [170., 176., 132.]]]], dtype=float32)"
            ]
          },
          "metadata": {},
          "execution_count": 53
        }
      ]
    },
    {
      "cell_type": "code",
      "source": [
        "x.ndim"
      ],
      "metadata": {
        "id": "1Jb5esds5MUk",
        "colab": {
          "base_uri": "https://localhost:8080/"
        },
        "outputId": "b2d78093-52e9-43af-8782-cc843e6ec538"
      },
      "execution_count": 54,
      "outputs": [
        {
          "output_type": "execute_result",
          "data": {
            "text/plain": [
              "4"
            ]
          },
          "metadata": {},
          "execution_count": 54
        }
      ]
    },
    {
      "cell_type": "code",
      "source": [
        "#pred=model.predict_classes(x)"
      ],
      "metadata": {
        "id": "p8rBw5Yh5UTT"
      },
      "execution_count": 75,
      "outputs": []
    },
    {
      "cell_type": "code",
      "source": [
        "#pred=np.argmax(model.predict(x),axis=1)\n",
        "pred"
      ],
      "metadata": {
        "id": "k49U1uLJ4qe7",
        "colab": {
          "base_uri": "https://localhost:8080/"
        },
        "outputId": "d158032b-d769-46d0-f89a-060b058c61f5"
      },
      "execution_count": 76,
      "outputs": [
        {
          "output_type": "execute_result",
          "data": {
            "text/plain": [
              "array([43])"
            ]
          },
          "metadata": {},
          "execution_count": 76
        }
      ]
    },
    {
      "cell_type": "code",
      "source": [
        "index=['koala','badger','bat','bear','bee','beetle','bison','boar','butterfly','cat','caterpillar','chimpanzee','cockroach','cow','coyote','crab','crow','deer','dog','dolphin','donkey','dragonfly','duck','eagle','elephant','flamingo','fly','fox','goat','goldfish','goose','gorilla','grasshopper','hamster','hare','hedgehog','hippopotamus','hornbill','horse','hummingbird','hyena','jellyfish','kangaroo','antelope','ladybugs','leopard','lion','lizard','lobster','mosquito','moth','mouse','octopus','okapi']\n",
        "print(index[pred[0]])"
      ],
      "metadata": {
        "id": "X6FxtmRk5a0w",
        "colab": {
          "base_uri": "https://localhost:8080/"
        },
        "outputId": "654a25a6-82a1-4283-8e8c-7559b2269c29"
      },
      "execution_count": 78,
      "outputs": [
        {
          "output_type": "stream",
          "name": "stdout",
          "text": [
            "antelope\n"
          ]
        }
      ]
    }
  ]
}